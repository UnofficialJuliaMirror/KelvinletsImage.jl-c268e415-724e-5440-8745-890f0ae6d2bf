{
 "cells": [
  {
   "cell_type": "code",
   "execution_count": 3,
   "metadata": {},
   "outputs": [
    {
     "name": "stdout",
     "output_type": "stream",
     "text": [
      "\u001b[32m\u001b[1m  Updating\u001b[22m\u001b[39m registry at `~/.julia/registries/General`\n",
      "\u001b[32m\u001b[1m  Updating\u001b[22m\u001b[39m git-repo `https://github.com/JuliaRegistries/General.git`\n",
      "\u001b[2K\u001b[?25h[1mFetching:\u001b[22m\u001b[39m [========================================>]  99.9 %0.0 %========>                                ]  17.6 %\u001b[36m\u001b[1mFetching:\u001b[22m\u001b[39m [========>                                ]  18.6 %                         ]  36.1 %\u001b[36m\u001b[1mFetching:\u001b[22m\u001b[39m [=====================>                   ]  51.6 %>            ]  69.0 % [===================================>     ]  86.7 %\u001b[32m\u001b[1m Resolving\u001b[22m\u001b[39m package versions...\n",
      "\u001b[32m\u001b[1m Installed\u001b[22m\u001b[39m Compat ─ v2.1.0\n",
      "\u001b[32m\u001b[1m  Updating\u001b[22m\u001b[39m `~/Desktop/Kelvinlets/KelvinletsImage.jl/Project.toml`\n",
      "\u001b[90m [no changes]\u001b[39m\n",
      "\u001b[32m\u001b[1m  Updating\u001b[22m\u001b[39m `~/Desktop/Kelvinlets/KelvinletsImage.jl/Manifest.toml`\n",
      " \u001b[90m [34da2185]\u001b[39m\u001b[93m ↑ Compat v2.0.0 ⇒ v2.1.0\u001b[39m\n",
      "\u001b[32m\u001b[1m Resolving\u001b[22m\u001b[39m package versions...\n",
      "\u001b[32m\u001b[1m  Updating\u001b[22m\u001b[39m `~/Desktop/Kelvinlets/KelvinletsImage.jl/Project.toml`\n",
      "\u001b[90m [no changes]\u001b[39m\n",
      "\u001b[32m\u001b[1m  Updating\u001b[22m\u001b[39m `~/Desktop/Kelvinlets/KelvinletsImage.jl/Manifest.toml`\n",
      "\u001b[90m [no changes]\u001b[39m\n",
      "\u001b[32m\u001b[1m Resolving\u001b[22m\u001b[39m package versions...\n",
      "\u001b[32m\u001b[1m  Updating\u001b[22m\u001b[39m `~/Desktop/Kelvinlets/KelvinletsImage.jl/Project.toml`\n",
      "\u001b[90m [no changes]\u001b[39m\n",
      "\u001b[32m\u001b[1m  Updating\u001b[22m\u001b[39m `~/Desktop/Kelvinlets/KelvinletsImage.jl/Manifest.toml`\n",
      "\u001b[90m [no changes]\u001b[39m\n",
      "\u001b[32m\u001b[1m Resolving\u001b[22m\u001b[39m package versions...\n",
      "\u001b[32m\u001b[1m  Updating\u001b[22m\u001b[39m `~/Desktop/Kelvinlets/KelvinletsImage.jl/Project.toml`\n",
      "\u001b[90m [no changes]\u001b[39m\n",
      "\u001b[32m\u001b[1m  Updating\u001b[22m\u001b[39m `~/Desktop/Kelvinlets/KelvinletsImage.jl/Manifest.toml`\n",
      "\u001b[90m [no changes]\u001b[39m\n"
     ]
    }
   ],
   "source": [
    "using Pkg\n",
    "Pkg.add(\"Images\")\n",
    "Pkg.add(\"ImageView\")\n",
    "Pkg.add(\"LinearAlgebra\")\n",
    "Pkg.add(\"Plots\")\n",
    "using Images, ImageView, LinearAlgebra, Plots"
   ]
  },
  {
   "cell_type": "code",
   "execution_count": 6,
   "metadata": {},
   "outputs": [
    {
     "data": {
      "text/plain": [
       "centerOfMassAnimation2 (generic function with 1 method)"
      ]
     },
     "execution_count": 6,
     "metadata": {},
     "output_type": "execute_result"
    }
   ],
   "source": [
    "function centerOfMassAnimation(X, Y, points)\n",
    "    \n",
    "    minX, maxX = points[:, 2]\n",
    "    minY, maxY = points[:, 1]\n",
    "    \n",
    "    frames = X * Y\n",
    "    video = fill(RGB{Float64}(0., 0., 0.), Y, X, frames)\n",
    "    \n",
    "    for i=1:Y\n",
    "        for j=1:X\n",
    "            frame = j+X*(i-1)\n",
    "            video[minY, minX, frame] = RGB{Float64}(1., 1., 0.)\n",
    "            video[minY, maxX, frame] = RGB{Float64}(1., 1., 0.)\n",
    "            video[maxY, minX, frame] = RGB{Float64}(1., 1., 0.)\n",
    "            video[maxY, maxX, frame] = RGB{Float64}(1., 1., 0.)\n",
    "            \n",
    "            video[i, j, frame] = RGB{Float64}(1., 0., 0.)\n",
    "            \n",
    "            d1 = norm([i, j] - [minY, minX]) + 1\n",
    "            d2 = norm([i, j] - [minY, maxX]) + 1\n",
    "            d3 = norm([i, j] - [maxY, minX]) + 1\n",
    "            d4 = norm([i, j] - [maxY, maxX]) + 1\n",
    "\n",
    "            newReference = ((1/d1) * [minY, minX] + \n",
    "                            (1/d2) * [minY, maxX] + \n",
    "                            (1/d3) * [maxY, minX] + \n",
    "                            (1/d4) * [maxY, maxX]\n",
    "                            ) / \n",
    "                            ((1/d1) + (1/d2) + (1/d3) + (1/d4))\n",
    "            \n",
    "            newReference = [round(Int, newReference[1]), round(Int, newReference[2])]\n",
    "            \n",
    "            video[newReference[1], newReference[2], frame] = RGB{Float64}(1., 1., 1.)\n",
    "        end\n",
    "    end\n",
    "    \n",
    "    return video\n",
    "end\n",
    "\n",
    "function centerOfMassAnimation2(X, Y, points)\n",
    "    \n",
    "    minX, maxX = points[:, 2]\n",
    "    minY, maxY = points[:, 1]\n",
    "    \n",
    "    frames = X * Y\n",
    "    video = fill(RGB{Float64}(0., 0., 0.), Y, X, frames)\n",
    "    \n",
    "    for i=1:Y\n",
    "        for j=1:X\n",
    "            frame = j+X*(i-1)\n",
    "            video[minY, minX, frame] = RGB{Float64}(1., 1., 0.)\n",
    "            video[minY, maxX, frame] = RGB{Float64}(1., 1., 0.)\n",
    "            video[maxY, minX, frame] = RGB{Float64}(1., 1., 0.)\n",
    "            video[maxY, maxX, frame] = RGB{Float64}(1., 1., 0.)\n",
    "            \n",
    "            video[i, j, frame] = RGB{Float64}(1., 0., 0.)\n",
    "            \n",
    "                divided = [0., 0.]\n",
    "                divisor = 0.\n",
    "\n",
    "                for k=minY:maxY\n",
    "                    for w=minX:maxX\n",
    "                        d = norm([i, j] - [k, w]) + 0.0001\n",
    "                        divided += (1/d) * [k, w]\n",
    "                        divisor += (1/d)\n",
    "                    end\n",
    "                end\n",
    "            \n",
    "            newReference = divided / divisor\n",
    "            \n",
    "            newReference = [round(Int, newReference[1]), round(Int, newReference[2])]\n",
    "            \n",
    "            video[newReference[1], newReference[2], frame] = RGB{Float64}(1., 1., 1.)\n",
    "        end\n",
    "    end\n",
    "    \n",
    "    return video\n",
    "end"
   ]
  },
  {
   "cell_type": "code",
   "execution_count": 7,
   "metadata": {},
   "outputs": [
    {
     "data": {
      "text/plain": [
       "Dict{String,Any} with 4 entries:\n",
       "  \"gui\"         => Dict{String,Any}(\"window\"=>GtkWindowLeaf(name=\"\", parent, wi…\n",
       "  \"roi\"         => Dict{String,Any}(\"redraw\"=>68: \"map(clim-mapped image, input…\n",
       "  \"annotations\" => 4: \"input-3\" = Dict{UInt64,Any}() Dict{UInt64,Any} \n",
       "  \"clim\"        => 3: \"CLim\" = CLim{RGB{Float64}}(RGB{Float64}(0.0,0.0,0.0), RG…"
      ]
     },
     "execution_count": 7,
     "metadata": {},
     "output_type": "execute_result"
    }
   ],
   "source": [
    "vid = centerOfMassAnimation2(50, 50, [15 15 ; 35 35])\n",
    "imshow(vid)"
   ]
  },
  {
   "cell_type": "code",
   "execution_count": null,
   "metadata": {},
   "outputs": [],
   "source": []
  }
 ],
 "metadata": {
  "kernelspec": {
   "display_name": "Julia 1.0.3",
   "language": "julia",
   "name": "julia-1.0"
  },
  "language_info": {
   "file_extension": ".jl",
   "mimetype": "application/julia",
   "name": "julia",
   "version": "1.0.3"
  }
 },
 "nbformat": 4,
 "nbformat_minor": 2
}
